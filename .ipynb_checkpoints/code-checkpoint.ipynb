{
 "cells": [
  {
   "cell_type": "code",
   "execution_count": 1,
   "metadata": {},
   "outputs": [
    {
     "name": "stdout",
     "output_type": "stream",
     "text": [
      "IEEE.pdf\n",
      "LICENSE\n",
      "README.md\n",
      "abstract.pdf\n",
      "block diagram\n",
      "blogtext.csv\n",
      "code.ipynb\n",
      "paper.pdf\n",
      "\n"
     ]
    }
   ],
   "source": [
    "# This Python 3 environment comes with many helpful analytics libraries installed\n",
    "# It is defined by the kaggle/python docker image: https://github.com/kaggle/docker-python\n",
    "# For example, here's several helpful packages to load in \n",
    "\n",
    "import numpy as np # linear algebra\n",
    "import pandas as pd # data processing, CSV file I/O (e.g. pd.read_csv)\n",
    "\n",
    "# Input data files are available in the \"../input/\" directory.\n",
    "# For example, running this (by clicking run or pressing Shift+Enter) will list the files in the input directory\n",
    "\n",
    "from subprocess import check_output\n",
    "print(check_output([\"ls\", \"../Semantic-Analysis\"]).decode(\"utf8\"))\n",
    "\n",
    "# Any results you write to the current directory are saved as output."
   ]
  },
  {
   "cell_type": "code",
   "execution_count": 2,
   "metadata": {},
   "outputs": [
    {
     "name": "stdout",
     "output_type": "stream",
     "text": [
      "(681284, 7)\n"
     ]
    },
    {
     "data": {
      "text/html": [
       "<div>\n",
       "<style scoped>\n",
       "    .dataframe tbody tr th:only-of-type {\n",
       "        vertical-align: middle;\n",
       "    }\n",
       "\n",
       "    .dataframe tbody tr th {\n",
       "        vertical-align: top;\n",
       "    }\n",
       "\n",
       "    .dataframe thead th {\n",
       "        text-align: right;\n",
       "    }\n",
       "</style>\n",
       "<table border=\"1\" class=\"dataframe\">\n",
       "  <thead>\n",
       "    <tr style=\"text-align: right;\">\n",
       "      <th></th>\n",
       "      <th>id</th>\n",
       "      <th>gender</th>\n",
       "      <th>age</th>\n",
       "      <th>topic</th>\n",
       "      <th>sign</th>\n",
       "      <th>date</th>\n",
       "      <th>text</th>\n",
       "    </tr>\n",
       "  </thead>\n",
       "  <tbody>\n",
       "    <tr>\n",
       "      <th>0</th>\n",
       "      <td>2059027</td>\n",
       "      <td>male</td>\n",
       "      <td>15</td>\n",
       "      <td>Student</td>\n",
       "      <td>Leo</td>\n",
       "      <td>14,May,2004</td>\n",
       "      <td>Info has been found (+/- 100 pages,...</td>\n",
       "    </tr>\n",
       "    <tr>\n",
       "      <th>1</th>\n",
       "      <td>2059027</td>\n",
       "      <td>male</td>\n",
       "      <td>15</td>\n",
       "      <td>Student</td>\n",
       "      <td>Leo</td>\n",
       "      <td>13,May,2004</td>\n",
       "      <td>These are the team members:   Drewe...</td>\n",
       "    </tr>\n",
       "    <tr>\n",
       "      <th>2</th>\n",
       "      <td>2059027</td>\n",
       "      <td>male</td>\n",
       "      <td>15</td>\n",
       "      <td>Student</td>\n",
       "      <td>Leo</td>\n",
       "      <td>12,May,2004</td>\n",
       "      <td>In het kader van kernfusie op aarde...</td>\n",
       "    </tr>\n",
       "    <tr>\n",
       "      <th>3</th>\n",
       "      <td>2059027</td>\n",
       "      <td>male</td>\n",
       "      <td>15</td>\n",
       "      <td>Student</td>\n",
       "      <td>Leo</td>\n",
       "      <td>12,May,2004</td>\n",
       "      <td>testing!!!  testing!!!</td>\n",
       "    </tr>\n",
       "    <tr>\n",
       "      <th>4</th>\n",
       "      <td>3581210</td>\n",
       "      <td>male</td>\n",
       "      <td>33</td>\n",
       "      <td>InvestmentBanking</td>\n",
       "      <td>Aquarius</td>\n",
       "      <td>11,June,2004</td>\n",
       "      <td>Thanks to Yahoo!'s Toolbar I can ...</td>\n",
       "    </tr>\n",
       "  </tbody>\n",
       "</table>\n",
       "</div>"
      ],
      "text/plain": [
       "        id gender  age              topic      sign          date  \\\n",
       "0  2059027   male   15            Student       Leo   14,May,2004   \n",
       "1  2059027   male   15            Student       Leo   13,May,2004   \n",
       "2  2059027   male   15            Student       Leo   12,May,2004   \n",
       "3  2059027   male   15            Student       Leo   12,May,2004   \n",
       "4  3581210   male   33  InvestmentBanking  Aquarius  11,June,2004   \n",
       "\n",
       "                                                text  \n",
       "0             Info has been found (+/- 100 pages,...  \n",
       "1             These are the team members:   Drewe...  \n",
       "2             In het kader van kernfusie op aarde...  \n",
       "3                   testing!!!  testing!!!            \n",
       "4               Thanks to Yahoo!'s Toolbar I can ...  "
      ]
     },
     "execution_count": 2,
     "metadata": {},
     "output_type": "execute_result"
    }
   ],
   "source": [
    "df = pd.read_csv(\"../Semantic-Analysis/blogtext.csv\")\n",
    "print(df.shape)\n",
    "df.head()"
   ]
  },
  {
   "cell_type": "code",
   "execution_count": 3,
   "metadata": {},
   "outputs": [],
   "source": [
    "df.drop_duplicates(subset=\"text\",inplace=True)"
   ]
  },
  {
   "cell_type": "code",
   "execution_count": 4,
   "metadata": {},
   "outputs": [
    {
     "data": {
      "text/plain": [
       "count    611652.000000\n",
       "mean       1163.233872\n",
       "std        2419.298950\n",
       "min           4.000000\n",
       "25%         250.000000\n",
       "50%         676.000000\n",
       "75%        1459.000000\n",
       "max      790123.000000\n",
       "Name: text, dtype: float64"
      ]
     },
     "execution_count": 4,
     "metadata": {},
     "output_type": "execute_result"
    }
   ],
   "source": [
    "df.text.str.len().describe()"
   ]
  },
  {
   "cell_type": "code",
   "execution_count": 5,
   "metadata": {},
   "outputs": [
    {
     "data": {
      "text/plain": [
       "<matplotlib.axes._subplots.AxesSubplot at 0x11740f550>"
      ]
     },
     "execution_count": 5,
     "metadata": {},
     "output_type": "execute_result"
    }
   ],
   "source": [
    "df.text.str.len().plot()"
   ]
  },
  {
   "cell_type": "code",
   "execution_count": 6,
   "metadata": {},
   "outputs": [],
   "source": [
    "df = df.loc[(df.text.str.len() < 18000) & (df.text.str.len() > 7)]"
   ]
  },
  {
   "cell_type": "code",
   "execution_count": 7,
   "metadata": {},
   "outputs": [
    {
     "data": {
      "text/plain": [
       "<matplotlib.axes._subplots.AxesSubplot at 0x118099550>"
      ]
     },
     "execution_count": 7,
     "metadata": {},
     "output_type": "execute_result"
    },
    {
     "data": {
      "image/png": "[encoded data removed]",
      "text/plain": [
       "<Figure size 432x288 with 1 Axes>"
      ]
     },
     "metadata": {
      "needs_background": "light"
     },
     "output_type": "display_data"
    }
   ],
   "source": [
    "df.text.str.len().plot()"
   ]
  },
  {
   "cell_type": "code",
   "execution_count": 8,
   "metadata": {},
   "outputs": [
    {
     "data": {
      "text/plain": [
       "(2283, 7)"
      ]
     },
     "execution_count": 8,
     "metadata": {},
     "output_type": "execute_result"
    }
   ],
   "source": [
    "df.loc[df.text.str.len() < 30].shape"
   ]
  },
  {
   "cell_type": "code",
   "execution_count": 9,
   "metadata": {},
   "outputs": [
    {
     "data": {
      "text/html": [
       "<div>\n",
       "<style scoped>\n",
       "    .dataframe tbody tr th:only-of-type {\n",
       "        vertical-align: middle;\n",
       "    }\n",
       "\n",
       "    .dataframe tbody tr th {\n",
       "        vertical-align: top;\n",
       "    }\n",
       "\n",
       "    .dataframe thead th {\n",
       "        text-align: right;\n",
       "    }\n",
       "</style>\n",
       "<table border=\"1\" class=\"dataframe\">\n",
       "  <thead>\n",
       "    <tr style=\"text-align: right;\">\n",
       "      <th></th>\n",
       "      <th>id</th>\n",
       "      <th>age</th>\n",
       "    </tr>\n",
       "  </thead>\n",
       "  <tbody>\n",
       "    <tr>\n",
       "      <th>count</th>\n",
       "      <td>6.110210e+05</td>\n",
       "      <td>611021.000000</td>\n",
       "    </tr>\n",
       "    <tr>\n",
       "      <th>mean</th>\n",
       "      <td>2.402346e+06</td>\n",
       "      <td>24.156944</td>\n",
       "    </tr>\n",
       "    <tr>\n",
       "      <th>std</th>\n",
       "      <td>1.253404e+06</td>\n",
       "      <td>7.869953</td>\n",
       "    </tr>\n",
       "    <tr>\n",
       "      <th>min</th>\n",
       "      <td>5.114000e+03</td>\n",
       "      <td>13.000000</td>\n",
       "    </tr>\n",
       "    <tr>\n",
       "      <th>25%</th>\n",
       "      <td>1.240274e+06</td>\n",
       "      <td>17.000000</td>\n",
       "    </tr>\n",
       "    <tr>\n",
       "      <th>50%</th>\n",
       "      <td>2.616768e+06</td>\n",
       "      <td>24.000000</td>\n",
       "    </tr>\n",
       "    <tr>\n",
       "      <th>75%</th>\n",
       "      <td>3.535697e+06</td>\n",
       "      <td>27.000000</td>\n",
       "    </tr>\n",
       "    <tr>\n",
       "      <th>max</th>\n",
       "      <td>4.337650e+06</td>\n",
       "      <td>48.000000</td>\n",
       "    </tr>\n",
       "  </tbody>\n",
       "</table>\n",
       "</div>"
      ],
      "text/plain": [
       "                 id            age\n",
       "count  6.110210e+05  611021.000000\n",
       "mean   2.402346e+06      24.156944\n",
       "std    1.253404e+06       7.869953\n",
       "min    5.114000e+03      13.000000\n",
       "25%    1.240274e+06      17.000000\n",
       "50%    2.616768e+06      24.000000\n",
       "75%    3.535697e+06      27.000000\n",
       "max    4.337650e+06      48.000000"
      ]
     },
     "execution_count": 9,
     "metadata": {},
     "output_type": "execute_result"
    }
   ],
   "source": [
    "df.describe()"
   ]
  },
  {
   "cell_type": "code",
   "execution_count": 10,
   "metadata": {},
   "outputs": [
    {
     "data": {
      "text/plain": [
       "24    71980\n",
       "17    70562\n",
       "23    66658\n",
       "16    60790\n",
       "25    59384\n",
       "26    49969\n",
       "27    40802\n",
       "15    38318\n",
       "14    24006\n",
       "34    20891\n",
       "33    16653\n",
       "35    16041\n",
       "36    13566\n",
       "13    11028\n",
       "37     8981\n",
       "38     6690\n",
       "39     5256\n",
       "40     4672\n",
       "45     4181\n",
       "43     4081\n",
       "41     3633\n",
       "48     3519\n",
       "46     2648\n",
       "42     2626\n",
       "47     2158\n",
       "44     1928\n",
       "Name: age, dtype: int64"
      ]
     },
     "execution_count": 10,
     "metadata": {},
     "output_type": "execute_result"
    }
   ],
   "source": [
    "df.age.value_counts()"
   ]
  },
  {
   "cell_type": "code",
   "execution_count": 11,
   "metadata": {},
   "outputs": [
    {
     "data": {
      "text/plain": [
       "{'Student': 0,\n",
       " 'InvestmentBanking': 1,\n",
       " 'indUnk': 2,\n",
       " 'Non-Profit': 3,\n",
       " 'Banking': 4,\n",
       " 'Education': 5,\n",
       " 'Engineering': 6,\n",
       " 'Science': 7,\n",
       " 'Communications-Media': 8,\n",
       " 'BusinessServices': 9,\n",
       " 'Sports-Recreation': 10,\n",
       " 'Arts': 11,\n",
       " 'Internet': 12,\n",
       " 'Museums-Libraries': 13,\n",
       " 'Accounting': 14,\n",
       " 'Technology': 15,\n",
       " 'Law': 16,\n",
       " 'Consulting': 17,\n",
       " 'Automotive': 18,\n",
       " 'Religion': 19,\n",
       " 'Fashion': 20,\n",
       " 'Publishing': 21,\n",
       " 'Marketing': 22,\n",
       " 'LawEnforcement-Security': 23,\n",
       " 'HumanResources': 24,\n",
       " 'Telecommunications': 25,\n",
       " 'Military': 26,\n",
       " 'Government': 27,\n",
       " 'Transportation': 28,\n",
       " 'Architecture': 29,\n",
       " 'Advertising': 30,\n",
       " 'Agriculture': 31,\n",
       " 'Biotech': 32,\n",
       " 'RealEstate': 33,\n",
       " 'Manufacturing': 34,\n",
       " 'Construction': 35,\n",
       " 'Chemicals': 36,\n",
       " 'Maritime': 37,\n",
       " 'Tourism': 38,\n",
       " 'Environment': 39}"
      ]
     },
     "execution_count": 11,
     "metadata": {},
     "output_type": "execute_result"
    }
   ],
   "source": [
    "list = df.topic.unique().tolist()\n",
    "dictOfWords = { list[i] : i for i in range(0, len(list) ) }\n",
    "dictOfWords"
   ]
  },
  {
   "cell_type": "code",
   "execution_count": 12,
   "metadata": {},
   "outputs": [],
   "source": [
    "df[\"word_count\"] = df.text.str.split().str.len()"
   ]
  },
  {
   "cell_type": "code",
   "execution_count": 13,
   "metadata": {},
   "outputs": [],
   "source": [
    "df[\"char_length\"] = df.text.str.len()"
   ]
  },
  {
   "cell_type": "code",
   "execution_count": 14,
   "metadata": {},
   "outputs": [],
   "source": [
    "df[\"id_count\"] = df.groupby(\"id\")[\"id\"].transform(\"count\")"
   ]
  },
  {
   "cell_type": "code",
   "execution_count": 15,
   "metadata": {},
   "outputs": [
    {
     "data": {
      "text/html": [
       "<div>\n",
       "<style scoped>\n",
       "    .dataframe tbody tr th:only-of-type {\n",
       "        vertical-align: middle;\n",
       "    }\n",
       "\n",
       "    .dataframe tbody tr th {\n",
       "        vertical-align: top;\n",
       "    }\n",
       "\n",
       "    .dataframe thead th {\n",
       "        text-align: right;\n",
       "    }\n",
       "</style>\n",
       "<table border=\"1\" class=\"dataframe\">\n",
       "  <thead>\n",
       "    <tr style=\"text-align: right;\">\n",
       "      <th></th>\n",
       "      <th>id</th>\n",
       "      <th>gender</th>\n",
       "      <th>age</th>\n",
       "      <th>topic</th>\n",
       "      <th>sign</th>\n",
       "      <th>date</th>\n",
       "      <th>text</th>\n",
       "      <th>word_count</th>\n",
       "      <th>char_length</th>\n",
       "      <th>id_count</th>\n",
       "    </tr>\n",
       "  </thead>\n",
       "  <tbody>\n",
       "    <tr>\n",
       "      <th>0</th>\n",
       "      <td>2059027</td>\n",
       "      <td>male</td>\n",
       "      <td>15</td>\n",
       "      <td>Student</td>\n",
       "      <td>Leo</td>\n",
       "      <td>14,May,2004</td>\n",
       "      <td>Info has been found (+/- 100 pages,...</td>\n",
       "      <td>28</td>\n",
       "      <td>157</td>\n",
       "      <td>3</td>\n",
       "    </tr>\n",
       "    <tr>\n",
       "      <th>1</th>\n",
       "      <td>2059027</td>\n",
       "      <td>male</td>\n",
       "      <td>15</td>\n",
       "      <td>Student</td>\n",
       "      <td>Leo</td>\n",
       "      <td>13,May,2004</td>\n",
       "      <td>These are the team members:   Drewe...</td>\n",
       "      <td>20</td>\n",
       "      <td>181</td>\n",
       "      <td>3</td>\n",
       "    </tr>\n",
       "    <tr>\n",
       "      <th>3</th>\n",
       "      <td>2059027</td>\n",
       "      <td>male</td>\n",
       "      <td>15</td>\n",
       "      <td>Student</td>\n",
       "      <td>Leo</td>\n",
       "      <td>12,May,2004</td>\n",
       "      <td>testing!!!  testing!!!</td>\n",
       "      <td>2</td>\n",
       "      <td>43</td>\n",
       "      <td>3</td>\n",
       "    </tr>\n",
       "    <tr>\n",
       "      <th>4</th>\n",
       "      <td>3581210</td>\n",
       "      <td>male</td>\n",
       "      <td>33</td>\n",
       "      <td>InvestmentBanking</td>\n",
       "      <td>Aquarius</td>\n",
       "      <td>11,June,2004</td>\n",
       "      <td>Thanks to Yahoo!'s Toolbar I can ...</td>\n",
       "      <td>65</td>\n",
       "      <td>402</td>\n",
       "      <td>70</td>\n",
       "    </tr>\n",
       "    <tr>\n",
       "      <th>5</th>\n",
       "      <td>3581210</td>\n",
       "      <td>male</td>\n",
       "      <td>33</td>\n",
       "      <td>InvestmentBanking</td>\n",
       "      <td>Aquarius</td>\n",
       "      <td>10,June,2004</td>\n",
       "      <td>I had an interesting conversation...</td>\n",
       "      <td>662</td>\n",
       "      <td>3695</td>\n",
       "      <td>70</td>\n",
       "    </tr>\n",
       "    <tr>\n",
       "      <th>6</th>\n",
       "      <td>3581210</td>\n",
       "      <td>male</td>\n",
       "      <td>33</td>\n",
       "      <td>InvestmentBanking</td>\n",
       "      <td>Aquarius</td>\n",
       "      <td>10,June,2004</td>\n",
       "      <td>Somehow Coca-Cola has a way of su...</td>\n",
       "      <td>196</td>\n",
       "      <td>1105</td>\n",
       "      <td>70</td>\n",
       "    </tr>\n",
       "    <tr>\n",
       "      <th>7</th>\n",
       "      <td>3581210</td>\n",
       "      <td>male</td>\n",
       "      <td>33</td>\n",
       "      <td>InvestmentBanking</td>\n",
       "      <td>Aquarius</td>\n",
       "      <td>10,June,2004</td>\n",
       "      <td>If anything, Korea is a country o...</td>\n",
       "      <td>387</td>\n",
       "      <td>2281</td>\n",
       "      <td>70</td>\n",
       "    </tr>\n",
       "    <tr>\n",
       "      <th>8</th>\n",
       "      <td>3581210</td>\n",
       "      <td>male</td>\n",
       "      <td>33</td>\n",
       "      <td>InvestmentBanking</td>\n",
       "      <td>Aquarius</td>\n",
       "      <td>10,June,2004</td>\n",
       "      <td>Take a read of this news article ...</td>\n",
       "      <td>386</td>\n",
       "      <td>2289</td>\n",
       "      <td>70</td>\n",
       "    </tr>\n",
       "    <tr>\n",
       "      <th>9</th>\n",
       "      <td>3581210</td>\n",
       "      <td>male</td>\n",
       "      <td>33</td>\n",
       "      <td>InvestmentBanking</td>\n",
       "      <td>Aquarius</td>\n",
       "      <td>09,June,2004</td>\n",
       "      <td>I surf the English news sites a l...</td>\n",
       "      <td>160</td>\n",
       "      <td>957</td>\n",
       "      <td>70</td>\n",
       "    </tr>\n",
       "    <tr>\n",
       "      <th>10</th>\n",
       "      <td>3581210</td>\n",
       "      <td>male</td>\n",
       "      <td>33</td>\n",
       "      <td>InvestmentBanking</td>\n",
       "      <td>Aquarius</td>\n",
       "      <td>09,June,2004</td>\n",
       "      <td>Ah, the Korean language...it look...</td>\n",
       "      <td>296</td>\n",
       "      <td>1767</td>\n",
       "      <td>70</td>\n",
       "    </tr>\n",
       "    <tr>\n",
       "      <th>11</th>\n",
       "      <td>3581210</td>\n",
       "      <td>male</td>\n",
       "      <td>33</td>\n",
       "      <td>InvestmentBanking</td>\n",
       "      <td>Aquarius</td>\n",
       "      <td>09,June,2004</td>\n",
       "      <td>If you click on my profile you'll...</td>\n",
       "      <td>499</td>\n",
       "      <td>2714</td>\n",
       "      <td>70</td>\n",
       "    </tr>\n",
       "    <tr>\n",
       "      <th>12</th>\n",
       "      <td>3581210</td>\n",
       "      <td>male</td>\n",
       "      <td>33</td>\n",
       "      <td>InvestmentBanking</td>\n",
       "      <td>Aquarius</td>\n",
       "      <td>09,June,2004</td>\n",
       "      <td>Last night was pretty fun...mostl...</td>\n",
       "      <td>519</td>\n",
       "      <td>2999</td>\n",
       "      <td>70</td>\n",
       "    </tr>\n",
       "  </tbody>\n",
       "</table>\n",
       "</div>"
      ],
      "text/plain": [
       "         id gender  age              topic      sign          date  \\\n",
       "0   2059027   male   15            Student       Leo   14,May,2004   \n",
       "1   2059027   male   15            Student       Leo   13,May,2004   \n",
       "3   2059027   male   15            Student       Leo   12,May,2004   \n",
       "4   3581210   male   33  InvestmentBanking  Aquarius  11,June,2004   \n",
       "5   3581210   male   33  InvestmentBanking  Aquarius  10,June,2004   \n",
       "6   3581210   male   33  InvestmentBanking  Aquarius  10,June,2004   \n",
       "7   3581210   male   33  InvestmentBanking  Aquarius  10,June,2004   \n",
       "8   3581210   male   33  InvestmentBanking  Aquarius  10,June,2004   \n",
       "9   3581210   male   33  InvestmentBanking  Aquarius  09,June,2004   \n",
       "10  3581210   male   33  InvestmentBanking  Aquarius  09,June,2004   \n",
       "11  3581210   male   33  InvestmentBanking  Aquarius  09,June,2004   \n",
       "12  3581210   male   33  InvestmentBanking  Aquarius  09,June,2004   \n",
       "\n",
       "                                                 text  word_count  \\\n",
       "0              Info has been found (+/- 100 pages,...          28   \n",
       "1              These are the team members:   Drewe...          20   \n",
       "3                    testing!!!  testing!!!                     2   \n",
       "4                Thanks to Yahoo!'s Toolbar I can ...          65   \n",
       "5                I had an interesting conversation...         662   \n",
       "6                Somehow Coca-Cola has a way of su...         196   \n",
       "7                If anything, Korea is a country o...         387   \n",
       "8                Take a read of this news article ...         386   \n",
       "9                I surf the English news sites a l...         160   \n",
       "10               Ah, the Korean language...it look...         296   \n",
       "11               If you click on my profile you'll...         499   \n",
       "12               Last night was pretty fun...mostl...         519   \n",
       "\n",
       "    char_length  id_count  \n",
       "0           157         3  \n",
       "1           181         3  \n",
       "3            43         3  \n",
       "4           402        70  \n",
       "5          3695        70  \n",
       "6          1105        70  \n",
       "7          2281        70  \n",
       "8          2289        70  \n",
       "9           957        70  \n",
       "10         1767        70  \n",
       "11         2714        70  \n",
       "12         2999        70  "
      ]
     },
     "execution_count": 15,
     "metadata": {},
     "output_type": "execute_result"
    }
   ],
   "source": [
    "df.head(12)"
   ]
  },
  {
   "cell_type": "code",
   "execution_count": 16,
   "metadata": {},
   "outputs": [],
   "source": [
    "df.date = pd.to_datetime(df.date,errors=\"coerce\",infer_datetime_format=True)"
   ]
  },
  {
   "cell_type": "code",
   "execution_count": 17,
   "metadata": {},
   "outputs": [
    {
     "data": {
      "text/html": [
       "<div>\n",
       "<style scoped>\n",
       "    .dataframe tbody tr th:only-of-type {\n",
       "        vertical-align: middle;\n",
       "    }\n",
       "\n",
       "    .dataframe tbody tr th {\n",
       "        vertical-align: top;\n",
       "    }\n",
       "\n",
       "    .dataframe thead th {\n",
       "        text-align: right;\n",
       "    }\n",
       "</style>\n",
       "<table border=\"1\" class=\"dataframe\">\n",
       "  <thead>\n",
       "    <tr style=\"text-align: right;\">\n",
       "      <th></th>\n",
       "      <th>id</th>\n",
       "      <th>gender</th>\n",
       "      <th>age</th>\n",
       "      <th>topic</th>\n",
       "      <th>sign</th>\n",
       "      <th>date</th>\n",
       "      <th>text</th>\n",
       "      <th>word_count</th>\n",
       "      <th>char_length</th>\n",
       "      <th>id_count</th>\n",
       "    </tr>\n",
       "  </thead>\n",
       "  <tbody>\n",
       "    <tr>\n",
       "      <th>681156</th>\n",
       "      <td>4260903</td>\n",
       "      <td>female</td>\n",
       "      <td>34</td>\n",
       "      <td>indUnk</td>\n",
       "      <td>Virgo</td>\n",
       "      <td>2004-08-23</td>\n",
       "      <td>I ran around cleaning all mor...</td>\n",
       "      <td>415</td>\n",
       "      <td>2241</td>\n",
       "      <td>5</td>\n",
       "    </tr>\n",
       "    <tr>\n",
       "      <th>681157</th>\n",
       "      <td>4260903</td>\n",
       "      <td>female</td>\n",
       "      <td>34</td>\n",
       "      <td>indUnk</td>\n",
       "      <td>Virgo</td>\n",
       "      <td>2004-08-21</td>\n",
       "      <td>We just got back from Six Fla...</td>\n",
       "      <td>308</td>\n",
       "      <td>1637</td>\n",
       "      <td>5</td>\n",
       "    </tr>\n",
       "    <tr>\n",
       "      <th>681158</th>\n",
       "      <td>4260903</td>\n",
       "      <td>female</td>\n",
       "      <td>34</td>\n",
       "      <td>indUnk</td>\n",
       "      <td>Virgo</td>\n",
       "      <td>2004-08-19</td>\n",
       "      <td>urlLink     I  felt kind of ...</td>\n",
       "      <td>202</td>\n",
       "      <td>1024</td>\n",
       "      <td>5</td>\n",
       "    </tr>\n",
       "    <tr>\n",
       "      <th>681159</th>\n",
       "      <td>4260903</td>\n",
       "      <td>female</td>\n",
       "      <td>34</td>\n",
       "      <td>indUnk</td>\n",
       "      <td>Virgo</td>\n",
       "      <td>2004-08-18</td>\n",
       "      <td>Wow, I love fruit.  I read th...</td>\n",
       "      <td>340</td>\n",
       "      <td>1798</td>\n",
       "      <td>5</td>\n",
       "    </tr>\n",
       "    <tr>\n",
       "      <th>681160</th>\n",
       "      <td>4260903</td>\n",
       "      <td>female</td>\n",
       "      <td>34</td>\n",
       "      <td>indUnk</td>\n",
       "      <td>Virgo</td>\n",
       "      <td>2004-08-18</td>\n",
       "      <td>I want to consider myself a r...</td>\n",
       "      <td>529</td>\n",
       "      <td>2787</td>\n",
       "      <td>5</td>\n",
       "    </tr>\n",
       "  </tbody>\n",
       "</table>\n",
       "</div>"
      ],
      "text/plain": [
       "             id  gender  age   topic   sign       date  \\\n",
       "681156  4260903  female   34  indUnk  Virgo 2004-08-23   \n",
       "681157  4260903  female   34  indUnk  Virgo 2004-08-21   \n",
       "681158  4260903  female   34  indUnk  Virgo 2004-08-19   \n",
       "681159  4260903  female   34  indUnk  Virgo 2004-08-18   \n",
       "681160  4260903  female   34  indUnk  Virgo 2004-08-18   \n",
       "\n",
       "                                                     text  word_count  \\\n",
       "681156                   I ran around cleaning all mor...         415   \n",
       "681157                   We just got back from Six Fla...         308   \n",
       "681158                    urlLink     I  felt kind of ...         202   \n",
       "681159                   Wow, I love fruit.  I read th...         340   \n",
       "681160                   I want to consider myself a r...         529   \n",
       "\n",
       "        char_length  id_count  \n",
       "681156         2241         5  \n",
       "681157         1637         5  \n",
       "681158         1024         5  \n",
       "681159         1798         5  \n",
       "681160         2787         5  "
      ]
     },
     "execution_count": 17,
     "metadata": {},
     "output_type": "execute_result"
    }
   ],
   "source": [
    "df.tail()"
   ]
  },
  {
   "cell_type": "code",
   "execution_count": 18,
   "metadata": {},
   "outputs": [
    {
     "data": {
      "text/plain": [
       "count    18965.000000\n",
       "mean        32.218350\n",
       "std         94.946719\n",
       "min          1.000000\n",
       "25%          5.000000\n",
       "50%         10.000000\n",
       "75%         25.000000\n",
       "max       4167.000000\n",
       "Name: id_count, dtype: float64"
      ]
     },
     "execution_count": 18,
     "metadata": {},
     "output_type": "execute_result"
    }
   ],
   "source": [
    "df.drop_duplicates(subset=\"id\")[\"id_count\"].describe()"
   ]
  },
  {
   "cell_type": "code",
   "execution_count": 43,
   "metadata": {},
   "outputs": [
    {
     "data": {
      "text/plain": [
       "(391274, 12)"
      ]
     },
     "execution_count": 43,
     "metadata": {},
     "output_type": "execute_result"
    }
   ],
   "source": [
    "df.shape"
   ]
  },
  {
   "cell_type": "code",
   "execution_count": 44,
   "metadata": {},
   "outputs": [
    {
     "data": {
      "text/plain": [
       "(391274, 12)"
      ]
     },
     "execution_count": 44,
     "metadata": {},
     "output_type": "execute_result"
    }
   ],
   "source": [
    "df = df.loc[df.id_count < 200]\n",
    "df.shape"
   ]
  },
  {
   "cell_type": "code",
   "execution_count": 45,
   "metadata": {},
   "outputs": [
    {
     "data": {
      "text/html": [
       "<div>\n",
       "<style scoped>\n",
       "    .dataframe tbody tr th:only-of-type {\n",
       "        vertical-align: middle;\n",
       "    }\n",
       "\n",
       "    .dataframe tbody tr th {\n",
       "        vertical-align: top;\n",
       "    }\n",
       "\n",
       "    .dataframe thead th {\n",
       "        text-align: right;\n",
       "    }\n",
       "</style>\n",
       "<table border=\"1\" class=\"dataframe\">\n",
       "  <thead>\n",
       "    <tr style=\"text-align: right;\">\n",
       "      <th></th>\n",
       "      <th>id</th>\n",
       "      <th>gender</th>\n",
       "      <th>age</th>\n",
       "      <th>topic</th>\n",
       "      <th>sign</th>\n",
       "      <th>date</th>\n",
       "      <th>text</th>\n",
       "      <th>word_count</th>\n",
       "      <th>char_length</th>\n",
       "      <th>id_count</th>\n",
       "      <th>age_group</th>\n",
       "      <th>age+sex</th>\n",
       "    </tr>\n",
       "  </thead>\n",
       "  <tbody>\n",
       "    <tr>\n",
       "      <th>0</th>\n",
       "      <td>2059027</td>\n",
       "      <td>male</td>\n",
       "      <td>15</td>\n",
       "      <td>Student</td>\n",
       "      <td>Leo</td>\n",
       "      <td>2004-05-14</td>\n",
       "      <td>info ha been found 100 page and 45 MB of pdf f...</td>\n",
       "      <td>28</td>\n",
       "      <td>157</td>\n",
       "      <td>3</td>\n",
       "      <td>(12.0, 17.0]</td>\n",
       "      <td>(12.0, 17.0]male</td>\n",
       "    </tr>\n",
       "    <tr>\n",
       "      <th>1</th>\n",
       "      <td>2059027</td>\n",
       "      <td>male</td>\n",
       "      <td>15</td>\n",
       "      <td>Student</td>\n",
       "      <td>Leo</td>\n",
       "      <td>2004-05-13</td>\n",
       "      <td>these are the team member drew van der laag ur...</td>\n",
       "      <td>20</td>\n",
       "      <td>181</td>\n",
       "      <td>3</td>\n",
       "      <td>(12.0, 17.0]</td>\n",
       "      <td>(12.0, 17.0]male</td>\n",
       "    </tr>\n",
       "    <tr>\n",
       "      <th>3</th>\n",
       "      <td>2059027</td>\n",
       "      <td>male</td>\n",
       "      <td>15</td>\n",
       "      <td>Student</td>\n",
       "      <td>Leo</td>\n",
       "      <td>2004-05-12</td>\n",
       "      <td>test test</td>\n",
       "      <td>2</td>\n",
       "      <td>43</td>\n",
       "      <td>3</td>\n",
       "      <td>(12.0, 17.0]</td>\n",
       "      <td>(12.0, 17.0]male</td>\n",
       "    </tr>\n",
       "    <tr>\n",
       "      <th>4</th>\n",
       "      <td>3581210</td>\n",
       "      <td>male</td>\n",
       "      <td>33</td>\n",
       "      <td>InvestmentBanking</td>\n",
       "      <td>Aquarius</td>\n",
       "      <td>2004-06-11</td>\n",
       "      <td>thank to yahoo toolbar I can now captur the ur...</td>\n",
       "      <td>65</td>\n",
       "      <td>402</td>\n",
       "      <td>70</td>\n",
       "      <td>(25.0, 48.0]</td>\n",
       "      <td>(25.0, 48.0]male</td>\n",
       "    </tr>\n",
       "    <tr>\n",
       "      <th>5</th>\n",
       "      <td>3581210</td>\n",
       "      <td>male</td>\n",
       "      <td>33</td>\n",
       "      <td>InvestmentBanking</td>\n",
       "      <td>Aquarius</td>\n",
       "      <td>2004-06-10</td>\n",
       "      <td>I had an interest convers with my dad thi morn...</td>\n",
       "      <td>662</td>\n",
       "      <td>3695</td>\n",
       "      <td>70</td>\n",
       "      <td>(25.0, 48.0]</td>\n",
       "      <td>(25.0, 48.0]male</td>\n",
       "    </tr>\n",
       "  </tbody>\n",
       "</table>\n",
       "</div>"
      ],
      "text/plain": [
       "        id gender  age              topic      sign       date  \\\n",
       "0  2059027   male   15            Student       Leo 2004-05-14   \n",
       "1  2059027   male   15            Student       Leo 2004-05-13   \n",
       "3  2059027   male   15            Student       Leo 2004-05-12   \n",
       "4  3581210   male   33  InvestmentBanking  Aquarius 2004-06-11   \n",
       "5  3581210   male   33  InvestmentBanking  Aquarius 2004-06-10   \n",
       "\n",
       "                                                text  word_count  char_length  \\\n",
       "0  info ha been found 100 page and 45 MB of pdf f...          28          157   \n",
       "1  these are the team member drew van der laag ur...          20          181   \n",
       "3                                          test test           2           43   \n",
       "4  thank to yahoo toolbar I can now captur the ur...          65          402   \n",
       "5  I had an interest convers with my dad thi morn...         662         3695   \n",
       "\n",
       "   id_count     age_group           age+sex  \n",
       "0         3  (12.0, 17.0]  (12.0, 17.0]male  \n",
       "1         3  (12.0, 17.0]  (12.0, 17.0]male  \n",
       "3         3  (12.0, 17.0]  (12.0, 17.0]male  \n",
       "4        70  (25.0, 48.0]  (25.0, 48.0]male  \n",
       "5        70  (25.0, 48.0]  (25.0, 48.0]male  "
      ]
     },
     "execution_count": 45,
     "metadata": {},
     "output_type": "execute_result"
    }
   ],
   "source": [
    "df.head()"
   ]
  },
  {
   "cell_type": "code",
   "execution_count": 46,
   "metadata": {},
   "outputs": [],
   "source": [
    "df[\"age_group\"] = pd.qcut(df[\"age\"],3,precision=0,)"
   ]
  },
  {
   "cell_type": "code",
   "execution_count": 47,
   "metadata": {},
   "outputs": [
    {
     "data": {
      "text/html": [
       "<div>\n",
       "<style scoped>\n",
       "    .dataframe tbody tr th:only-of-type {\n",
       "        vertical-align: middle;\n",
       "    }\n",
       "\n",
       "    .dataframe tbody tr th {\n",
       "        vertical-align: top;\n",
       "    }\n",
       "\n",
       "    .dataframe thead th {\n",
       "        text-align: right;\n",
       "    }\n",
       "</style>\n",
       "<table border=\"1\" class=\"dataframe\">\n",
       "  <thead>\n",
       "    <tr style=\"text-align: right;\">\n",
       "      <th></th>\n",
       "      <th>id</th>\n",
       "      <th>gender</th>\n",
       "      <th>age</th>\n",
       "      <th>topic</th>\n",
       "      <th>sign</th>\n",
       "      <th>date</th>\n",
       "      <th>text</th>\n",
       "      <th>word_count</th>\n",
       "      <th>char_length</th>\n",
       "      <th>id_count</th>\n",
       "      <th>age_group</th>\n",
       "      <th>age+sex</th>\n",
       "    </tr>\n",
       "  </thead>\n",
       "  <tbody>\n",
       "    <tr>\n",
       "      <th>0</th>\n",
       "      <td>2059027</td>\n",
       "      <td>male</td>\n",
       "      <td>15</td>\n",
       "      <td>Student</td>\n",
       "      <td>Leo</td>\n",
       "      <td>2004-05-14</td>\n",
       "      <td>info ha been found 100 page and 45 MB of pdf f...</td>\n",
       "      <td>28</td>\n",
       "      <td>157</td>\n",
       "      <td>3</td>\n",
       "      <td>(12.0, 17.0]</td>\n",
       "      <td>(12.0, 17.0]male</td>\n",
       "    </tr>\n",
       "    <tr>\n",
       "      <th>1</th>\n",
       "      <td>2059027</td>\n",
       "      <td>male</td>\n",
       "      <td>15</td>\n",
       "      <td>Student</td>\n",
       "      <td>Leo</td>\n",
       "      <td>2004-05-13</td>\n",
       "      <td>these are the team member drew van der laag ur...</td>\n",
       "      <td>20</td>\n",
       "      <td>181</td>\n",
       "      <td>3</td>\n",
       "      <td>(12.0, 17.0]</td>\n",
       "      <td>(12.0, 17.0]male</td>\n",
       "    </tr>\n",
       "    <tr>\n",
       "      <th>3</th>\n",
       "      <td>2059027</td>\n",
       "      <td>male</td>\n",
       "      <td>15</td>\n",
       "      <td>Student</td>\n",
       "      <td>Leo</td>\n",
       "      <td>2004-05-12</td>\n",
       "      <td>test test</td>\n",
       "      <td>2</td>\n",
       "      <td>43</td>\n",
       "      <td>3</td>\n",
       "      <td>(12.0, 17.0]</td>\n",
       "      <td>(12.0, 17.0]male</td>\n",
       "    </tr>\n",
       "    <tr>\n",
       "      <th>4</th>\n",
       "      <td>3581210</td>\n",
       "      <td>male</td>\n",
       "      <td>33</td>\n",
       "      <td>InvestmentBanking</td>\n",
       "      <td>Aquarius</td>\n",
       "      <td>2004-06-11</td>\n",
       "      <td>thank to yahoo toolbar I can now captur the ur...</td>\n",
       "      <td>65</td>\n",
       "      <td>402</td>\n",
       "      <td>70</td>\n",
       "      <td>(25.0, 48.0]</td>\n",
       "      <td>(25.0, 48.0]male</td>\n",
       "    </tr>\n",
       "    <tr>\n",
       "      <th>5</th>\n",
       "      <td>3581210</td>\n",
       "      <td>male</td>\n",
       "      <td>33</td>\n",
       "      <td>InvestmentBanking</td>\n",
       "      <td>Aquarius</td>\n",
       "      <td>2004-06-10</td>\n",
       "      <td>I had an interest convers with my dad thi morn...</td>\n",
       "      <td>662</td>\n",
       "      <td>3695</td>\n",
       "      <td>70</td>\n",
       "      <td>(25.0, 48.0]</td>\n",
       "      <td>(25.0, 48.0]male</td>\n",
       "    </tr>\n",
       "  </tbody>\n",
       "</table>\n",
       "</div>"
      ],
      "text/plain": [
       "        id gender  age              topic      sign       date  \\\n",
       "0  2059027   male   15            Student       Leo 2004-05-14   \n",
       "1  2059027   male   15            Student       Leo 2004-05-13   \n",
       "3  2059027   male   15            Student       Leo 2004-05-12   \n",
       "4  3581210   male   33  InvestmentBanking  Aquarius 2004-06-11   \n",
       "5  3581210   male   33  InvestmentBanking  Aquarius 2004-06-10   \n",
       "\n",
       "                                                text  word_count  char_length  \\\n",
       "0  info ha been found 100 page and 45 MB of pdf f...          28          157   \n",
       "1  these are the team member drew van der laag ur...          20          181   \n",
       "3                                          test test           2           43   \n",
       "4  thank to yahoo toolbar I can now captur the ur...          65          402   \n",
       "5  I had an interest convers with my dad thi morn...         662         3695   \n",
       "\n",
       "   id_count     age_group           age+sex  \n",
       "0         3  (12.0, 17.0]  (12.0, 17.0]male  \n",
       "1         3  (12.0, 17.0]  (12.0, 17.0]male  \n",
       "3         3  (12.0, 17.0]  (12.0, 17.0]male  \n",
       "4        70  (25.0, 48.0]  (25.0, 48.0]male  \n",
       "5        70  (25.0, 48.0]  (25.0, 48.0]male  "
      ]
     },
     "execution_count": 47,
     "metadata": {},
     "output_type": "execute_result"
    }
   ],
   "source": [
    "df.head()"
   ]
  },
  {
   "cell_type": "code",
   "execution_count": 48,
   "metadata": {},
   "outputs": [
    {
     "data": {
      "text/plain": [
       "(12.0, 17.0]    150753\n",
       "(17.0, 25.0]    124832\n",
       "(25.0, 48.0]    115689\n",
       "Name: age_group, dtype: int64"
      ]
     },
     "execution_count": 48,
     "metadata": {},
     "output_type": "execute_result"
    }
   ],
   "source": [
    "df.age_group.value_counts()"
   ]
  },
  {
   "cell_type": "code",
   "execution_count": 49,
   "metadata": {},
   "outputs": [],
   "source": [
    "df[\"age+sex\"] = df[\"age_group\"].astype(str)+df[\"gender\"]"
   ]
  },
  {
   "cell_type": "code",
   "execution_count": 50,
   "metadata": {
    "scrolled": true
   },
   "outputs": [
    {
     "data": {
      "text/html": [
       "<div>\n",
       "<style scoped>\n",
       "    .dataframe tbody tr th:only-of-type {\n",
       "        vertical-align: middle;\n",
       "    }\n",
       "\n",
       "    .dataframe tbody tr th {\n",
       "        vertical-align: top;\n",
       "    }\n",
       "\n",
       "    .dataframe thead th {\n",
       "        text-align: right;\n",
       "    }\n",
       "</style>\n",
       "<table border=\"1\" class=\"dataframe\">\n",
       "  <thead>\n",
       "    <tr style=\"text-align: right;\">\n",
       "      <th></th>\n",
       "      <th>id</th>\n",
       "      <th>gender</th>\n",
       "      <th>age</th>\n",
       "      <th>topic</th>\n",
       "      <th>sign</th>\n",
       "      <th>date</th>\n",
       "      <th>text</th>\n",
       "      <th>word_count</th>\n",
       "      <th>char_length</th>\n",
       "      <th>id_count</th>\n",
       "      <th>age_group</th>\n",
       "      <th>age+sex</th>\n",
       "    </tr>\n",
       "  </thead>\n",
       "  <tbody>\n",
       "    <tr>\n",
       "      <th>0</th>\n",
       "      <td>2059027</td>\n",
       "      <td>male</td>\n",
       "      <td>15</td>\n",
       "      <td>Student</td>\n",
       "      <td>Leo</td>\n",
       "      <td>2004-05-14</td>\n",
       "      <td>info ha been found 100 page and 45 MB of pdf f...</td>\n",
       "      <td>28</td>\n",
       "      <td>157</td>\n",
       "      <td>3</td>\n",
       "      <td>(12.0, 17.0]</td>\n",
       "      <td>(12.0, 17.0]male</td>\n",
       "    </tr>\n",
       "    <tr>\n",
       "      <th>1</th>\n",
       "      <td>2059027</td>\n",
       "      <td>male</td>\n",
       "      <td>15</td>\n",
       "      <td>Student</td>\n",
       "      <td>Leo</td>\n",
       "      <td>2004-05-13</td>\n",
       "      <td>these are the team member drew van der laag ur...</td>\n",
       "      <td>20</td>\n",
       "      <td>181</td>\n",
       "      <td>3</td>\n",
       "      <td>(12.0, 17.0]</td>\n",
       "      <td>(12.0, 17.0]male</td>\n",
       "    </tr>\n",
       "    <tr>\n",
       "      <th>3</th>\n",
       "      <td>2059027</td>\n",
       "      <td>male</td>\n",
       "      <td>15</td>\n",
       "      <td>Student</td>\n",
       "      <td>Leo</td>\n",
       "      <td>2004-05-12</td>\n",
       "      <td>test test</td>\n",
       "      <td>2</td>\n",
       "      <td>43</td>\n",
       "      <td>3</td>\n",
       "      <td>(12.0, 17.0]</td>\n",
       "      <td>(12.0, 17.0]male</td>\n",
       "    </tr>\n",
       "    <tr>\n",
       "      <th>4</th>\n",
       "      <td>3581210</td>\n",
       "      <td>male</td>\n",
       "      <td>33</td>\n",
       "      <td>InvestmentBanking</td>\n",
       "      <td>Aquarius</td>\n",
       "      <td>2004-06-11</td>\n",
       "      <td>thank to yahoo toolbar I can now captur the ur...</td>\n",
       "      <td>65</td>\n",
       "      <td>402</td>\n",
       "      <td>70</td>\n",
       "      <td>(25.0, 48.0]</td>\n",
       "      <td>(25.0, 48.0]male</td>\n",
       "    </tr>\n",
       "    <tr>\n",
       "      <th>5</th>\n",
       "      <td>3581210</td>\n",
       "      <td>male</td>\n",
       "      <td>33</td>\n",
       "      <td>InvestmentBanking</td>\n",
       "      <td>Aquarius</td>\n",
       "      <td>2004-06-10</td>\n",
       "      <td>I had an interest convers with my dad thi morn...</td>\n",
       "      <td>662</td>\n",
       "      <td>3695</td>\n",
       "      <td>70</td>\n",
       "      <td>(25.0, 48.0]</td>\n",
       "      <td>(25.0, 48.0]male</td>\n",
       "    </tr>\n",
       "  </tbody>\n",
       "</table>\n",
       "</div>"
      ],
      "text/plain": [
       "        id gender  age              topic      sign       date  \\\n",
       "0  2059027   male   15            Student       Leo 2004-05-14   \n",
       "1  2059027   male   15            Student       Leo 2004-05-13   \n",
       "3  2059027   male   15            Student       Leo 2004-05-12   \n",
       "4  3581210   male   33  InvestmentBanking  Aquarius 2004-06-11   \n",
       "5  3581210   male   33  InvestmentBanking  Aquarius 2004-06-10   \n",
       "\n",
       "                                                text  word_count  char_length  \\\n",
       "0  info ha been found 100 page and 45 MB of pdf f...          28          157   \n",
       "1  these are the team member drew van der laag ur...          20          181   \n",
       "3                                          test test           2           43   \n",
       "4  thank to yahoo toolbar I can now captur the ur...          65          402   \n",
       "5  I had an interest convers with my dad thi morn...         662         3695   \n",
       "\n",
       "   id_count     age_group           age+sex  \n",
       "0         3  (12.0, 17.0]  (12.0, 17.0]male  \n",
       "1         3  (12.0, 17.0]  (12.0, 17.0]male  \n",
       "3         3  (12.0, 17.0]  (12.0, 17.0]male  \n",
       "4        70  (25.0, 48.0]  (25.0, 48.0]male  \n",
       "5        70  (25.0, 48.0]  (25.0, 48.0]male  "
      ]
     },
     "execution_count": 50,
     "metadata": {},
     "output_type": "execute_result"
    }
   ],
   "source": [
    "df.head()"
   ]
  },
  {
   "cell_type": "code",
   "execution_count": 51,
   "metadata": {},
   "outputs": [
    {
     "data": {
      "text/plain": [
       "(12.0, 17.0]female    76284\n",
       "(12.0, 17.0]male      74469\n",
       "(17.0, 25.0]female    66712\n",
       "(25.0, 48.0]male      59997\n",
       "(17.0, 25.0]male      58120\n",
       "(25.0, 48.0]female    55692\n",
       "Name: age+sex, dtype: int64"
      ]
     },
     "execution_count": 51,
     "metadata": {},
     "output_type": "execute_result"
    }
   ],
   "source": [
    "df[\"age+sex\"].value_counts()"
   ]
  },
  {
   "cell_type": "code",
   "execution_count": 52,
   "metadata": {},
   "outputs": [
    {
     "data": {
      "text/html": [
       "<div>\n",
       "<style scoped>\n",
       "    .dataframe tbody tr th:only-of-type {\n",
       "        vertical-align: middle;\n",
       "    }\n",
       "\n",
       "    .dataframe tbody tr th {\n",
       "        vertical-align: top;\n",
       "    }\n",
       "\n",
       "    .dataframe thead th {\n",
       "        text-align: right;\n",
       "    }\n",
       "</style>\n",
       "<table border=\"1\" class=\"dataframe\">\n",
       "  <thead>\n",
       "    <tr style=\"text-align: right;\">\n",
       "      <th></th>\n",
       "      <th>id</th>\n",
       "      <th>gender</th>\n",
       "      <th>age</th>\n",
       "      <th>topic</th>\n",
       "      <th>sign</th>\n",
       "      <th>date</th>\n",
       "      <th>text</th>\n",
       "      <th>word_count</th>\n",
       "      <th>char_length</th>\n",
       "      <th>id_count</th>\n",
       "      <th>age_group</th>\n",
       "      <th>age+sex</th>\n",
       "    </tr>\n",
       "  </thead>\n",
       "  <tbody>\n",
       "    <tr>\n",
       "      <th>0</th>\n",
       "      <td>2059027</td>\n",
       "      <td>male</td>\n",
       "      <td>15</td>\n",
       "      <td>Student</td>\n",
       "      <td>Leo</td>\n",
       "      <td>2004-05-14</td>\n",
       "      <td>info ha been found 100 page and 45 MB of pdf f...</td>\n",
       "      <td>28</td>\n",
       "      <td>157</td>\n",
       "      <td>3</td>\n",
       "      <td>(12.0, 17.0]</td>\n",
       "      <td>(12.0, 17.0]male</td>\n",
       "    </tr>\n",
       "    <tr>\n",
       "      <th>1</th>\n",
       "      <td>2059027</td>\n",
       "      <td>male</td>\n",
       "      <td>15</td>\n",
       "      <td>Student</td>\n",
       "      <td>Leo</td>\n",
       "      <td>2004-05-13</td>\n",
       "      <td>these are the team member drew van der laag ur...</td>\n",
       "      <td>20</td>\n",
       "      <td>181</td>\n",
       "      <td>3</td>\n",
       "      <td>(12.0, 17.0]</td>\n",
       "      <td>(12.0, 17.0]male</td>\n",
       "    </tr>\n",
       "    <tr>\n",
       "      <th>3</th>\n",
       "      <td>2059027</td>\n",
       "      <td>male</td>\n",
       "      <td>15</td>\n",
       "      <td>Student</td>\n",
       "      <td>Leo</td>\n",
       "      <td>2004-05-12</td>\n",
       "      <td>test test</td>\n",
       "      <td>2</td>\n",
       "      <td>43</td>\n",
       "      <td>3</td>\n",
       "      <td>(12.0, 17.0]</td>\n",
       "      <td>(12.0, 17.0]male</td>\n",
       "    </tr>\n",
       "    <tr>\n",
       "      <th>4</th>\n",
       "      <td>3581210</td>\n",
       "      <td>male</td>\n",
       "      <td>33</td>\n",
       "      <td>InvestmentBanking</td>\n",
       "      <td>Aquarius</td>\n",
       "      <td>2004-06-11</td>\n",
       "      <td>thank to yahoo toolbar I can now captur the ur...</td>\n",
       "      <td>65</td>\n",
       "      <td>402</td>\n",
       "      <td>70</td>\n",
       "      <td>(25.0, 48.0]</td>\n",
       "      <td>(25.0, 48.0]male</td>\n",
       "    </tr>\n",
       "    <tr>\n",
       "      <th>5</th>\n",
       "      <td>3581210</td>\n",
       "      <td>male</td>\n",
       "      <td>33</td>\n",
       "      <td>InvestmentBanking</td>\n",
       "      <td>Aquarius</td>\n",
       "      <td>2004-06-10</td>\n",
       "      <td>I had an interest convers with my dad thi morn...</td>\n",
       "      <td>662</td>\n",
       "      <td>3695</td>\n",
       "      <td>70</td>\n",
       "      <td>(25.0, 48.0]</td>\n",
       "      <td>(25.0, 48.0]male</td>\n",
       "    </tr>\n",
       "  </tbody>\n",
       "</table>\n",
       "</div>"
      ],
      "text/plain": [
       "        id gender  age              topic      sign       date  \\\n",
       "0  2059027   male   15            Student       Leo 2004-05-14   \n",
       "1  2059027   male   15            Student       Leo 2004-05-13   \n",
       "3  2059027   male   15            Student       Leo 2004-05-12   \n",
       "4  3581210   male   33  InvestmentBanking  Aquarius 2004-06-11   \n",
       "5  3581210   male   33  InvestmentBanking  Aquarius 2004-06-10   \n",
       "\n",
       "                                                text  word_count  char_length  \\\n",
       "0  info ha been found 100 page and 45 MB of pdf f...          28          157   \n",
       "1  these are the team member drew van der laag ur...          20          181   \n",
       "3                                          test test           2           43   \n",
       "4  thank to yahoo toolbar I can now captur the ur...          65          402   \n",
       "5  I had an interest convers with my dad thi morn...         662         3695   \n",
       "\n",
       "   id_count     age_group           age+sex  \n",
       "0         3  (12.0, 17.0]  (12.0, 17.0]male  \n",
       "1         3  (12.0, 17.0]  (12.0, 17.0]male  \n",
       "3         3  (12.0, 17.0]  (12.0, 17.0]male  \n",
       "4        70  (25.0, 48.0]  (25.0, 48.0]male  \n",
       "5        70  (25.0, 48.0]  (25.0, 48.0]male  "
      ]
     },
     "execution_count": 52,
     "metadata": {},
     "output_type": "execute_result"
    }
   ],
   "source": [
    "df.head()"
   ]
  },
  {
   "cell_type": "code",
   "execution_count": 53,
   "metadata": {},
   "outputs": [],
   "source": [
    "from sklearn import model_selection, preprocessing, linear_model, naive_bayes, metrics, svm\n",
    "from sklearn.feature_extraction.text import TfidfVectorizer, CountVectorizer\n",
    "from sklearn import decomposition, ensemble"
   ]
  },
  {
   "cell_type": "code",
   "execution_count": 54,
   "metadata": {},
   "outputs": [
    {
     "name": "stdout",
     "output_type": "stream",
     "text": [
      "(681284, 2)\n"
     ]
    },
    {
     "data": {
      "text/html": [
       "<div>\n",
       "<style scoped>\n",
       "    .dataframe tbody tr th:only-of-type {\n",
       "        vertical-align: middle;\n",
       "    }\n",
       "\n",
       "    .dataframe tbody tr th {\n",
       "        vertical-align: top;\n",
       "    }\n",
       "\n",
       "    .dataframe thead th {\n",
       "        text-align: right;\n",
       "    }\n",
       "</style>\n",
       "<table border=\"1\" class=\"dataframe\">\n",
       "  <thead>\n",
       "    <tr style=\"text-align: right;\">\n",
       "      <th></th>\n",
       "      <th>topic</th>\n",
       "      <th>text</th>\n",
       "    </tr>\n",
       "  </thead>\n",
       "  <tbody>\n",
       "    <tr>\n",
       "      <th>0</th>\n",
       "      <td>Student</td>\n",
       "      <td>Info has been found (+/- 100 pages,...</td>\n",
       "    </tr>\n",
       "    <tr>\n",
       "      <th>1</th>\n",
       "      <td>Student</td>\n",
       "      <td>These are the team members:   Drewe...</td>\n",
       "    </tr>\n",
       "    <tr>\n",
       "      <th>2</th>\n",
       "      <td>Student</td>\n",
       "      <td>In het kader van kernfusie op aarde...</td>\n",
       "    </tr>\n",
       "    <tr>\n",
       "      <th>3</th>\n",
       "      <td>Student</td>\n",
       "      <td>testing!!!  testing!!!</td>\n",
       "    </tr>\n",
       "    <tr>\n",
       "      <th>4</th>\n",
       "      <td>InvestmentBanking</td>\n",
       "      <td>Thanks to Yahoo!'s Toolbar I can ...</td>\n",
       "    </tr>\n",
       "  </tbody>\n",
       "</table>\n",
       "</div>"
      ],
      "text/plain": [
       "               topic                                               text\n",
       "0            Student             Info has been found (+/- 100 pages,...\n",
       "1            Student             These are the team members:   Drewe...\n",
       "2            Student             In het kader van kernfusie op aarde...\n",
       "3            Student                   testing!!!  testing!!!          \n",
       "4  InvestmentBanking               Thanks to Yahoo!'s Toolbar I can ..."
      ]
     },
     "execution_count": 54,
     "metadata": {},
     "output_type": "execute_result"
    }
   ],
   "source": [
    "data = pd.read_csv(\n",
    "    \"../Semantic-Analysis/blogtext.csv\",     \n",
    "    usecols=['topic', 'text']   # Only load the three columns specified.\n",
    ")\n",
    "print(data.shape)\n",
    "data.head()"
   ]
  },
  {
   "cell_type": "code",
   "execution_count": 55,
   "metadata": {},
   "outputs": [
    {
     "data": {
      "text/html": [
       "<div>\n",
       "<style scoped>\n",
       "    .dataframe tbody tr th:only-of-type {\n",
       "        vertical-align: middle;\n",
       "    }\n",
       "\n",
       "    .dataframe tbody tr th {\n",
       "        vertical-align: top;\n",
       "    }\n",
       "\n",
       "    .dataframe thead th {\n",
       "        text-align: right;\n",
       "    }\n",
       "</style>\n",
       "<table border=\"1\" class=\"dataframe\">\n",
       "  <thead>\n",
       "    <tr style=\"text-align: right;\">\n",
       "      <th></th>\n",
       "      <th>topic</th>\n",
       "      <th>text</th>\n",
       "    </tr>\n",
       "  </thead>\n",
       "  <tbody>\n",
       "    <tr>\n",
       "      <th>0</th>\n",
       "      <td>0</td>\n",
       "      <td>Info has been found (+/- 100 pages,...</td>\n",
       "    </tr>\n",
       "    <tr>\n",
       "      <th>1</th>\n",
       "      <td>0</td>\n",
       "      <td>These are the team members:   Drewe...</td>\n",
       "    </tr>\n",
       "    <tr>\n",
       "      <th>2</th>\n",
       "      <td>0</td>\n",
       "      <td>In het kader van kernfusie op aarde...</td>\n",
       "    </tr>\n",
       "    <tr>\n",
       "      <th>3</th>\n",
       "      <td>0</td>\n",
       "      <td>testing!!!  testing!!!</td>\n",
       "    </tr>\n",
       "    <tr>\n",
       "      <th>4</th>\n",
       "      <td>1</td>\n",
       "      <td>Thanks to Yahoo!'s Toolbar I can ...</td>\n",
       "    </tr>\n",
       "  </tbody>\n",
       "</table>\n",
       "</div>"
      ],
      "text/plain": [
       "   topic                                               text\n",
       "0      0             Info has been found (+/- 100 pages,...\n",
       "1      0             These are the team members:   Drewe...\n",
       "2      0             In het kader van kernfusie op aarde...\n",
       "3      0                   testing!!!  testing!!!          \n",
       "4      1               Thanks to Yahoo!'s Toolbar I can ..."
      ]
     },
     "execution_count": 55,
     "metadata": {},
     "output_type": "execute_result"
    }
   ],
   "source": [
    "data['topic'] = data['topic'].replace(dictOfWords)\n",
    "data.head()"
   ]
  },
  {
   "cell_type": "code",
   "execution_count": 56,
   "metadata": {},
   "outputs": [],
   "source": [
    "data['text'] = data.text.map(lambda x: x.lower())  "
   ]
  },
  {
   "cell_type": "code",
   "execution_count": 57,
   "metadata": {},
   "outputs": [],
   "source": [
    "df['text'] = df.text.str.replace('[^\\w\\s]', '') "
   ]
  },
  {
   "cell_type": "code",
   "execution_count": 58,
   "metadata": {},
   "outputs": [],
   "source": [
    "import nltk\n",
    "df['text'] = df['text'].apply(nltk.word_tokenize)"
   ]
  },
  {
   "cell_type": "code",
   "execution_count": 59,
   "metadata": {},
   "outputs": [],
   "source": [
    "from nltk.stem import PorterStemmer\n",
    "stemmer = PorterStemmer()"
   ]
  },
  {
   "cell_type": "code",
   "execution_count": 60,
   "metadata": {},
   "outputs": [],
   "source": [
    "df['text'] = df['text'].apply(lambda x: [stemmer.stem(y) for y in x])  "
   ]
  },
  {
   "cell_type": "code",
   "execution_count": 61,
   "metadata": {},
   "outputs": [],
   "source": [
    "from sklearn.feature_extraction.text import CountVectorizer\n",
    "\n",
    "# This converts the list of words into space-separated strings\n",
    "df['text'] = df['text'].apply(lambda x: ' '.join(x))\n",
    "\n",
    "count_vect = CountVectorizer()  \n",
    "counts = count_vect.fit_transform(df['text'])  "
   ]
  },
  {
   "cell_type": "code",
   "execution_count": 62,
   "metadata": {},
   "outputs": [],
   "source": [
    "from sklearn.feature_extraction.text import TfidfTransformer\n",
    "\n",
    "transformer = TfidfTransformer().fit(counts)\n",
    "\n",
    "counts = transformer.transform(counts)  "
   ]
  },
  {
   "cell_type": "code",
   "execution_count": 63,
   "metadata": {},
   "outputs": [],
   "source": [
    "from sklearn.model_selection import train_test_split\n",
    "\n",
    "X_train, X_test, y_train, y_test = train_test_split(counts, df['topic'], test_size=0.33, random_state=0)  "
   ]
  },
  {
   "cell_type": "code",
   "execution_count": 64,
   "metadata": {},
   "outputs": [],
   "source": [
    "from sklearn.naive_bayes import MultinomialNB\n",
    "\n",
    "model = MultinomialNB().fit(X_train, y_train) "
   ]
  },
  {
   "cell_type": "code",
   "execution_count": 65,
   "metadata": {},
   "outputs": [
    {
     "name": "stdout",
     "output_type": "stream",
     "text": [
      "0.35610009216161587\n"
     ]
    }
   ],
   "source": [
    "predicted = model.predict(X_test)\n",
    "\n",
    "print(np.mean(predicted == y_test))  "
   ]
  },
  {
   "cell_type": "code",
   "execution_count": 42,
   "metadata": {},
   "outputs": [
    {
     "data": {
      "image/png": "[encoded data removed]",
      "text/plain": [
       "<Figure size 288x288 with 2 Axes>"
      ]
     },
     "metadata": {
      "needs_background": "light"
     },
     "output_type": "display_data"
    }
   ],
   "source": [
    "from sklearn.metrics import confusion_matrix\n",
    "import pylab as pl\n",
    "\n",
    "cm = confusion_matrix(y_test, predicted)\n",
    "\n",
    "pl.matshow(cm)\n",
    "pl.title('Confusion matrix of the classifier')\n",
    "pl.colorbar()\n",
    "pl.show()"
   ]
  },
  {
   "cell_type": "code",
   "execution_count": null,
   "metadata": {},
   "outputs": [],
   "source": []
  }
 ],
 "metadata": {
  "kernelspec": {
   "display_name": "Python 3",
   "language": "python",
   "name": "python3"
  },
  "language_info": {
   "codemirror_mode": {
    "name": "ipython",
    "version": 3
   },
   "file_extension": ".py",
   "mimetype": "text/x-python",
   "name": "python",
   "nbconvert_exporter": "python",
   "pygments_lexer": "ipython3",
   "version": "3.7.1"
  }
 },
 "nbformat": 4,
 "nbformat_minor": 2
}
